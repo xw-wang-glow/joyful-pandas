{
 "metadata": {
  "language_info": {
   "codemirror_mode": {
    "name": "ipython",
    "version": 3
   },
   "file_extension": ".py",
   "mimetype": "text/x-python",
   "name": "python",
   "nbconvert_exporter": "python",
   "pygments_lexer": "ipython3",
   "version": "3.7.0-final"
  },
  "orig_nbformat": 2,
  "kernelspec": {
   "name": "python37064bit703bb15f77e2455eb19a127bafccaf4d",
   "display_name": "Python 3.7.0 64-bit",
   "language": "python"
  }
 },
 "nbformat": 4,
 "nbformat_minor": 2,
 "cells": [
  {
   "source": [
    "# <center>第三章 索引</center>"
   ],
   "cell_type": "markdown",
   "metadata": {}
  },
  {
   "cell_type": "code",
   "execution_count": 1,
   "metadata": {},
   "outputs": [],
   "source": [
    "import numpy as np\n",
    "import pandas as pd"
   ]
  },
  {
   "source": [
    "## 一、索引器\n",
    "\n",
    "### 1.表的列索引\n",
    "`[列名]`取出相应列，返回值为`Series`"
   ],
   "cell_type": "markdown",
   "metadata": {}
  },
  {
   "cell_type": "code",
   "execution_count": 3,
   "metadata": {},
   "outputs": [
    {
     "output_type": "execute_result",
     "data": {
      "text/plain": [
       "0      Gaopeng Yang\n",
       "1    Changqiang You\n",
       "2           Mei Sun\n",
       "3      Xiaojuan Sun\n",
       "4       Gaojuan You\n",
       "Name: Name, dtype: object"
      ]
     },
     "metadata": {},
     "execution_count": 3
    }
   ],
   "source": [
    "df = pd.read_csv('./data/learn_pandas.csv',usecols=['School','Grade','Name','Gender','Weight','Transfer'])\n",
    "df['Name'].head()"
   ]
  },
  {
   "source": [
    "`[列名组成的列表]`取多列并返回一个Dataframe"
   ],
   "cell_type": "markdown",
   "metadata": {}
  },
  {
   "cell_type": "code",
   "execution_count": 5,
   "metadata": {},
   "outputs": [
    {
     "output_type": "execute_result",
     "data": {
      "text/plain": [
       "   Gender            Name\n",
       "0  Female    Gaopeng Yang\n",
       "1    Male  Changqiang You\n",
       "2    Male         Mei Sun\n",
       "3  Female    Xiaojuan Sun\n",
       "4    Male     Gaojuan You"
      ],
      "text/html": "<div>\n<style scoped>\n    .dataframe tbody tr th:only-of-type {\n        vertical-align: middle;\n    }\n\n    .dataframe tbody tr th {\n        vertical-align: top;\n    }\n\n    .dataframe thead th {\n        text-align: right;\n    }\n</style>\n<table border=\"1\" class=\"dataframe\">\n  <thead>\n    <tr style=\"text-align: right;\">\n      <th></th>\n      <th>Gender</th>\n      <th>Name</th>\n    </tr>\n  </thead>\n  <tbody>\n    <tr>\n      <th>0</th>\n      <td>Female</td>\n      <td>Gaopeng Yang</td>\n    </tr>\n    <tr>\n      <th>1</th>\n      <td>Male</td>\n      <td>Changqiang You</td>\n    </tr>\n    <tr>\n      <th>2</th>\n      <td>Male</td>\n      <td>Mei Sun</td>\n    </tr>\n    <tr>\n      <th>3</th>\n      <td>Female</td>\n      <td>Xiaojuan Sun</td>\n    </tr>\n    <tr>\n      <th>4</th>\n      <td>Male</td>\n      <td>Gaojuan You</td>\n    </tr>\n  </tbody>\n</table>\n</div>"
     },
     "metadata": {},
     "execution_count": 5
    }
   ],
   "source": [
    "df[['Gender','Name']].head()"
   ]
  },
  {
   "cell_type": "code",
   "execution_count": 9,
   "metadata": {},
   "outputs": [
    {
     "output_type": "execute_result",
     "data": {
      "text/plain": [
       "0      Gaopeng Yang\n",
       "1    Changqiang You\n",
       "2           Mei Sun\n",
       "3      Xiaojuan Sun\n",
       "4       Gaojuan You\n",
       "Name: Name, dtype: object"
      ]
     },
     "metadata": {},
     "execution_count": 9
    }
   ],
   "source": [
    "df.Name.head()#列名不含空格"
   ]
  },
  {
   "source": [
    "### 2.序列的行索引\n",
    "`[Item]`取出索引对应元素，如果只有单个值对应，则返回这个标量值；如果多个值的索引相同，则返回一个Series\n",
    "\n",
    "多个索引对应的元素，`[items的列表]`\n",
    "\n",
    "如果想要取出某两个索引之间的元素，并且这两个索引是在整个索引中唯一出现，则可以使用切片,，同时需要注意这里的切片会包含两个端点：\n"
   ],
   "cell_type": "markdown",
   "metadata": {}
  },
  {
   "cell_type": "code",
   "execution_count": 21,
   "metadata": {},
   "outputs": [
    {
     "output_type": "execute_result",
     "data": {
      "text/plain": [
       "a    1\n",
       "a    3\n",
       "a    4\n",
       "dtype: int64"
      ]
     },
     "metadata": {},
     "execution_count": 21
    }
   ],
   "source": [
    "s= pd.Series([1,2,3,4,5,6],index=['a','b','a','a','f','c'])\n",
    "s['a']"
   ]
  },
  {
   "cell_type": "code",
   "execution_count": 25,
   "metadata": {},
   "outputs": [
    {
     "output_type": "execute_result",
     "data": {
      "text/plain": [
       "f    5\n",
       "a    4\n",
       "a    3\n",
       "b    2\n",
       "dtype: int64"
      ]
     },
     "metadata": {},
     "execution_count": 25
    }
   ],
   "source": [
    "s['f':'b':-1]"
   ]
  },
  {
   "source": [
    "不指定索引则为默认生成的整数索引。整数切片同Python切片一个道理，不包含右端点"
   ],
   "cell_type": "markdown",
   "metadata": {}
  },
  {
   "cell_type": "code",
   "execution_count": 31,
   "metadata": {},
   "outputs": [
    {
     "output_type": "execute_result",
     "data": {
      "text/plain": [
       "0    1\n",
       "1    5\n",
       "dtype: int64"
      ]
     },
     "metadata": {},
     "execution_count": 31
    }
   ],
   "source": [
    "s = pd.Series([1,5,9,6])\n",
    "s[0:2]"
   ]
  },
  {
   "source": [
    "### 3. loc索引器\n",
    "\n",
    "前面讲到了对`DataFrame`的列进行选取，下面要讨论其行的选取。对于表而言，有两种索引器，一种是基于**元素**的`loc`索引器，另一种是基于**位置**的`iloc`索引器。\n",
    "\n",
    "`loc`索引器的一般形式是`loc[*, *]`，其中第一个`*`代表行的选择，第二个`*`代表列的选择，如果省略第二个位置写作`loc[*]`，这个`*`是指行的筛选。其中，`*`的位置一共有五类合法对象，分别是：单个元素、元素列表、元素切片、布尔列表以及函数，下面将依次说明。\n",
    "\n",
    "为了演示相应操作，先利用`set_index`方法把`Name`列设为索引，关于该函数的其他用法将在多级索引一章介绍。"
   ],
   "cell_type": "markdown",
   "metadata": {}
  },
  {
   "cell_type": "code",
   "execution_count": 36,
   "metadata": {},
   "outputs": [
    {
     "output_type": "execute_result",
     "data": {
      "text/plain": [
       "                                       School      Grade  Gender  Weight  \\\n",
       "Name                                                                       \n",
       "Gaopeng Yang    Shanghai Jiao Tong University   Freshman  Female    46.0   \n",
       "Changqiang You              Peking University   Freshman    Male    70.0   \n",
       "Mei Sun         Shanghai Jiao Tong University     Senior    Male    89.0   \n",
       "Xiaojuan Sun                 Fudan University  Sophomore  Female    41.0   \n",
       "Gaojuan You                  Fudan University  Sophomore    Male    74.0   \n",
       "\n",
       "               Transfer  \n",
       "Name                     \n",
       "Gaopeng Yang          N  \n",
       "Changqiang You        N  \n",
       "Mei Sun               N  \n",
       "Xiaojuan Sun          N  \n",
       "Gaojuan You           N  "
      ],
      "text/html": "<div>\n<style scoped>\n    .dataframe tbody tr th:only-of-type {\n        vertical-align: middle;\n    }\n\n    .dataframe tbody tr th {\n        vertical-align: top;\n    }\n\n    .dataframe thead th {\n        text-align: right;\n    }\n</style>\n<table border=\"1\" class=\"dataframe\">\n  <thead>\n    <tr style=\"text-align: right;\">\n      <th></th>\n      <th>School</th>\n      <th>Grade</th>\n      <th>Gender</th>\n      <th>Weight</th>\n      <th>Transfer</th>\n    </tr>\n    <tr>\n      <th>Name</th>\n      <th></th>\n      <th></th>\n      <th></th>\n      <th></th>\n      <th></th>\n    </tr>\n  </thead>\n  <tbody>\n    <tr>\n      <th>Gaopeng Yang</th>\n      <td>Shanghai Jiao Tong University</td>\n      <td>Freshman</td>\n      <td>Female</td>\n      <td>46.0</td>\n      <td>N</td>\n    </tr>\n    <tr>\n      <th>Changqiang You</th>\n      <td>Peking University</td>\n      <td>Freshman</td>\n      <td>Male</td>\n      <td>70.0</td>\n      <td>N</td>\n    </tr>\n    <tr>\n      <th>Mei Sun</th>\n      <td>Shanghai Jiao Tong University</td>\n      <td>Senior</td>\n      <td>Male</td>\n      <td>89.0</td>\n      <td>N</td>\n    </tr>\n    <tr>\n      <th>Xiaojuan Sun</th>\n      <td>Fudan University</td>\n      <td>Sophomore</td>\n      <td>Female</td>\n      <td>41.0</td>\n      <td>N</td>\n    </tr>\n    <tr>\n      <th>Gaojuan You</th>\n      <td>Fudan University</td>\n      <td>Sophomore</td>\n      <td>Male</td>\n      <td>74.0</td>\n      <td>N</td>\n    </tr>\n  </tbody>\n</table>\n</div>"
     },
     "metadata": {},
     "execution_count": 36
    }
   ],
   "source": [
    "df_demo = df.set_index('Name')\n",
    "df_demo.head()"
   ]
  },
  {
   "cell_type": "code",
   "execution_count": 37,
   "metadata": {},
   "outputs": [
    {
     "output_type": "execute_result",
     "data": {
      "text/plain": [
       "                                  School      Grade  Gender  Weight Transfer\n",
       "Name                                                                        \n",
       "Qiang Sun            Tsinghua University     Junior  Female    53.0        N\n",
       "Qiang Sun            Tsinghua University  Sophomore  Female    40.0        N\n",
       "Qiang Sun  Shanghai Jiao Tong University     Junior  Female     NaN        N"
      ],
      "text/html": "<div>\n<style scoped>\n    .dataframe tbody tr th:only-of-type {\n        vertical-align: middle;\n    }\n\n    .dataframe tbody tr th {\n        vertical-align: top;\n    }\n\n    .dataframe thead th {\n        text-align: right;\n    }\n</style>\n<table border=\"1\" class=\"dataframe\">\n  <thead>\n    <tr style=\"text-align: right;\">\n      <th></th>\n      <th>School</th>\n      <th>Grade</th>\n      <th>Gender</th>\n      <th>Weight</th>\n      <th>Transfer</th>\n    </tr>\n    <tr>\n      <th>Name</th>\n      <th></th>\n      <th></th>\n      <th></th>\n      <th></th>\n      <th></th>\n    </tr>\n  </thead>\n  <tbody>\n    <tr>\n      <th>Qiang Sun</th>\n      <td>Tsinghua University</td>\n      <td>Junior</td>\n      <td>Female</td>\n      <td>53.0</td>\n      <td>N</td>\n    </tr>\n    <tr>\n      <th>Qiang Sun</th>\n      <td>Tsinghua University</td>\n      <td>Sophomore</td>\n      <td>Female</td>\n      <td>40.0</td>\n      <td>N</td>\n    </tr>\n    <tr>\n      <th>Qiang Sun</th>\n      <td>Shanghai Jiao Tong University</td>\n      <td>Junior</td>\n      <td>Female</td>\n      <td>NaN</td>\n      <td>N</td>\n    </tr>\n  </tbody>\n</table>\n</div>"
     },
     "metadata": {},
     "execution_count": 37
    }
   ],
   "source": [
    "df_demo.loc['Qiang Sun']#多人叫次名字，返回DataFrame"
   ]
  },
  {
   "cell_type": "code",
   "execution_count": 41,
   "metadata": {},
   "outputs": [
    {
     "output_type": "execute_result",
     "data": {
      "text/plain": [
       "Index(['School', 'Grade', 'Gender', 'Weight', 'Transfer'], dtype='object')"
      ]
     },
     "metadata": {},
     "execution_count": 41
    }
   ],
   "source": [
    "df_demo.loc['Quan Zhao']#名字唯一，返回Series"
   ]
  },
  {
   "source": [
    "也可以同时选择行和列"
   ],
   "cell_type": "markdown",
   "metadata": {}
  },
  {
   "cell_type": "code",
   "execution_count": 46,
   "metadata": {},
   "outputs": [
    {
     "output_type": "execute_result",
     "data": {
      "text/plain": [
       "Name\n",
       "Qiang Sun              Tsinghua University\n",
       "Qiang Sun              Tsinghua University\n",
       "Qiang Sun    Shanghai Jiao Tong University\n",
       "Name: School, dtype: object"
      ]
     },
     "metadata": {},
     "execution_count": 46
    }
   ],
   "source": [
    "df_demo.loc['Qiang Sun','School']#返回Series"
   ]
  },
  {
   "cell_type": "code",
   "execution_count": 47,
   "metadata": {},
   "outputs": [
    {
     "output_type": "execute_result",
     "data": {
      "text/plain": [
       "'Shanghai Jiao Tong University'"
      ]
     },
     "metadata": {},
     "execution_count": 47
    }
   ],
   "source": [
    "df_demo.loc['Quan Zhao','School']#返回单个元素"
   ]
  },
  {
   "source": [
    "`*`为元素列表"
   ],
   "cell_type": "markdown",
   "metadata": {}
  },
  {
   "cell_type": "code",
   "execution_count": 51,
   "metadata": {},
   "outputs": [
    {
     "output_type": "execute_result",
     "data": {
      "text/plain": [
       "                                  School  Gender\n",
       "Name                                            \n",
       "Qiang Sun            Tsinghua University  Female\n",
       "Qiang Sun            Tsinghua University  Female\n",
       "Qiang Sun  Shanghai Jiao Tong University  Female\n",
       "Quan Zhao  Shanghai Jiao Tong University  Female"
      ],
      "text/html": "<div>\n<style scoped>\n    .dataframe tbody tr th:only-of-type {\n        vertical-align: middle;\n    }\n\n    .dataframe tbody tr th {\n        vertical-align: top;\n    }\n\n    .dataframe thead th {\n        text-align: right;\n    }\n</style>\n<table border=\"1\" class=\"dataframe\">\n  <thead>\n    <tr style=\"text-align: right;\">\n      <th></th>\n      <th>School</th>\n      <th>Gender</th>\n    </tr>\n    <tr>\n      <th>Name</th>\n      <th></th>\n      <th></th>\n    </tr>\n  </thead>\n  <tbody>\n    <tr>\n      <th>Qiang Sun</th>\n      <td>Tsinghua University</td>\n      <td>Female</td>\n    </tr>\n    <tr>\n      <th>Qiang Sun</th>\n      <td>Tsinghua University</td>\n      <td>Female</td>\n    </tr>\n    <tr>\n      <th>Qiang Sun</th>\n      <td>Shanghai Jiao Tong University</td>\n      <td>Female</td>\n    </tr>\n    <tr>\n      <th>Quan Zhao</th>\n      <td>Shanghai Jiao Tong University</td>\n      <td>Female</td>\n    </tr>\n  </tbody>\n</table>\n</div>"
     },
     "metadata": {},
     "execution_count": 51
    }
   ],
   "source": [
    "df_demo.loc[['Qiang Sun','Quan Zhao'],['School','Gender']]"
   ]
  },
  {
   "source": [
    "`*`为切片，跟之前提到的切片一个道理，索引唯一且包含右端点"
   ],
   "cell_type": "markdown",
   "metadata": {}
  },
  {
   "cell_type": "code",
   "execution_count": 53,
   "metadata": {},
   "outputs": [
    {
     "output_type": "execute_result",
     "data": {
      "text/plain": [
       "                                      School      Grade  Gender\n",
       "Name                                                           \n",
       "Gaojuan You                 Fudan University  Sophomore    Male\n",
       "Xiaoli Qian              Tsinghua University   Freshman  Female\n",
       "Qiang Chu      Shanghai Jiao Tong University   Freshman  Female\n",
       "Gaoqiang Qian            Tsinghua University     Junior  Female"
      ],
      "text/html": "<div>\n<style scoped>\n    .dataframe tbody tr th:only-of-type {\n        vertical-align: middle;\n    }\n\n    .dataframe tbody tr th {\n        vertical-align: top;\n    }\n\n    .dataframe thead th {\n        text-align: right;\n    }\n</style>\n<table border=\"1\" class=\"dataframe\">\n  <thead>\n    <tr style=\"text-align: right;\">\n      <th></th>\n      <th>School</th>\n      <th>Grade</th>\n      <th>Gender</th>\n    </tr>\n    <tr>\n      <th>Name</th>\n      <th></th>\n      <th></th>\n      <th></th>\n    </tr>\n  </thead>\n  <tbody>\n    <tr>\n      <th>Gaojuan You</th>\n      <td>Fudan University</td>\n      <td>Sophomore</td>\n      <td>Male</td>\n    </tr>\n    <tr>\n      <th>Xiaoli Qian</th>\n      <td>Tsinghua University</td>\n      <td>Freshman</td>\n      <td>Female</td>\n    </tr>\n    <tr>\n      <th>Qiang Chu</th>\n      <td>Shanghai Jiao Tong University</td>\n      <td>Freshman</td>\n      <td>Female</td>\n    </tr>\n    <tr>\n      <th>Gaoqiang Qian</th>\n      <td>Tsinghua University</td>\n      <td>Junior</td>\n      <td>Female</td>\n    </tr>\n  </tbody>\n</table>\n</div>"
     },
     "metadata": {},
     "execution_count": 53
    }
   ],
   "source": [
    "df_demo.loc['Gaojuan You':'Gaoqiang Qian','School':'Gender']"
   ]
  },
  {
   "source": [
    "需要注意的是，如果`DataFrame`使用整数索引，其使用整数切片的时候和上面字符串索引的要求一致，都是**元素**切片，包含端点且起点、终点不允许有重复值。"
   ],
   "cell_type": "markdown",
   "metadata": {}
  },
  {
   "cell_type": "code",
   "execution_count": 68,
   "metadata": {},
   "outputs": [
    {
     "output_type": "execute_result",
     "data": {
      "text/plain": [
       "                          School   Grade  Gender  Weight Transfer\n",
       "5               Fudan University  Junior  Female    46.0        N\n",
       "4            Tsinghua University  Senior  Female    50.0        N\n",
       "3  Shanghai Jiao Tong University  Senior  Female    45.0        N"
      ],
      "text/html": "<div>\n<style scoped>\n    .dataframe tbody tr th:only-of-type {\n        vertical-align: middle;\n    }\n\n    .dataframe tbody tr th {\n        vertical-align: top;\n    }\n\n    .dataframe thead th {\n        text-align: right;\n    }\n</style>\n<table border=\"1\" class=\"dataframe\">\n  <thead>\n    <tr style=\"text-align: right;\">\n      <th></th>\n      <th>School</th>\n      <th>Grade</th>\n      <th>Gender</th>\n      <th>Weight</th>\n      <th>Transfer</th>\n    </tr>\n  </thead>\n  <tbody>\n    <tr>\n      <th>5</th>\n      <td>Fudan University</td>\n      <td>Junior</td>\n      <td>Female</td>\n      <td>46.0</td>\n      <td>N</td>\n    </tr>\n    <tr>\n      <th>4</th>\n      <td>Tsinghua University</td>\n      <td>Senior</td>\n      <td>Female</td>\n      <td>50.0</td>\n      <td>N</td>\n    </tr>\n    <tr>\n      <th>3</th>\n      <td>Shanghai Jiao Tong University</td>\n      <td>Senior</td>\n      <td>Female</td>\n      <td>45.0</td>\n      <td>N</td>\n    </tr>\n  </tbody>\n</table>\n</div>"
     },
     "metadata": {},
     "execution_count": 68
    }
   ],
   "source": [
    "df_loc_slice_demo = df_demo.copy()\n",
    "df_loc_slice_demo.index = range(df_demo.shape[0],0,-1)\n",
    "df_loc_slice_demo.loc[5:3]"
   ]
  },
  {
   "cell_type": "code",
   "execution_count": 78,
   "metadata": {},
   "outputs": [
    {
     "output_type": "execute_result",
     "data": {
      "text/plain": [
       "                                      School      Grade Gender  Weight  \\\n",
       "Name                                                                     \n",
       "Mei Sun        Shanghai Jiao Tong University     Senior   Male    89.0   \n",
       "Gaojuan You                 Fudan University  Sophomore   Male    74.0   \n",
       "Xiaopeng Zhou  Shanghai Jiao Tong University   Freshman   Male    74.0   \n",
       "Xiaofeng Sun             Tsinghua University     Senior   Male    71.0   \n",
       "Qiang Zheng    Shanghai Jiao Tong University     Senior   Male    87.0   \n",
       "\n",
       "              Transfer  \n",
       "Name                    \n",
       "Mei Sun              N  \n",
       "Gaojuan You          N  \n",
       "Xiaopeng Zhou        N  \n",
       "Xiaofeng Sun         N  \n",
       "Qiang Zheng          N  "
      ],
      "text/html": "<div>\n<style scoped>\n    .dataframe tbody tr th:only-of-type {\n        vertical-align: middle;\n    }\n\n    .dataframe tbody tr th {\n        vertical-align: top;\n    }\n\n    .dataframe thead th {\n        text-align: right;\n    }\n</style>\n<table border=\"1\" class=\"dataframe\">\n  <thead>\n    <tr style=\"text-align: right;\">\n      <th></th>\n      <th>School</th>\n      <th>Grade</th>\n      <th>Gender</th>\n      <th>Weight</th>\n      <th>Transfer</th>\n    </tr>\n    <tr>\n      <th>Name</th>\n      <th></th>\n      <th></th>\n      <th></th>\n      <th></th>\n      <th></th>\n    </tr>\n  </thead>\n  <tbody>\n    <tr>\n      <th>Mei Sun</th>\n      <td>Shanghai Jiao Tong University</td>\n      <td>Senior</td>\n      <td>Male</td>\n      <td>89.0</td>\n      <td>N</td>\n    </tr>\n    <tr>\n      <th>Gaojuan You</th>\n      <td>Fudan University</td>\n      <td>Sophomore</td>\n      <td>Male</td>\n      <td>74.0</td>\n      <td>N</td>\n    </tr>\n    <tr>\n      <th>Xiaopeng Zhou</th>\n      <td>Shanghai Jiao Tong University</td>\n      <td>Freshman</td>\n      <td>Male</td>\n      <td>74.0</td>\n      <td>N</td>\n    </tr>\n    <tr>\n      <th>Xiaofeng Sun</th>\n      <td>Tsinghua University</td>\n      <td>Senior</td>\n      <td>Male</td>\n      <td>71.0</td>\n      <td>N</td>\n    </tr>\n    <tr>\n      <th>Qiang Zheng</th>\n      <td>Shanghai Jiao Tong University</td>\n      <td>Senior</td>\n      <td>Male</td>\n      <td>87.0</td>\n      <td>N</td>\n    </tr>\n  </tbody>\n</table>\n</div>"
     },
     "metadata": {},
     "execution_count": 78
    }
   ],
   "source": [
    "df_demo.loc[df_demo.Weight>70].head()#*为相同长度的布尔类型Series"
   ]
  },
  {
   "source": [
    "也可以通过`isin`方法返回布尔Series"
   ],
   "cell_type": "markdown",
   "metadata": {}
  },
  {
   "cell_type": "code",
   "execution_count": 80,
   "metadata": {},
   "outputs": [
    {
     "output_type": "execute_result",
     "data": {
      "text/plain": [
       "Name\n",
       "Gaopeng Yang       True\n",
       "Changqiang You     True\n",
       "Mei Sun            True\n",
       "Xiaojuan Sun      False\n",
       "Gaojuan You       False\n",
       "                  ...  \n",
       "Xiaojuan Sun      False\n",
       "Li Zhao            True\n",
       "Chengqiang Chu     True\n",
       "Chengmei Shen      True\n",
       "Chunpeng Lv       False\n",
       "Name: Grade, Length: 200, dtype: bool"
      ]
     },
     "metadata": {},
     "execution_count": 80
    }
   ],
   "source": [
    "df_demo.loc[df_demo.Grade.isin(['Freshman','Senior'])].head()\n",
    "df_demo.Grade.isin(['Freshman','Senior'])"
   ]
  },
  {
   "source": [
    "对于复合条件而言，可以用`|（或）, &（且）, ~（取反）`的组合来实现，例如选出复旦大学中体重超过70kg的大四学生，或者北大男生中体重超过80kg的非大四的学生"
   ],
   "cell_type": "markdown",
   "metadata": {}
  },
  {
   "cell_type": "code",
   "execution_count": 81,
   "metadata": {},
   "outputs": [
    {
     "output_type": "execute_result",
     "data": {
      "text/plain": [
       "                           School     Grade Gender  Weight Transfer\n",
       "Name                                                               \n",
       "Qiang Han       Peking University  Freshman   Male    87.0        N\n",
       "Chengpeng Zhou   Fudan University    Senior   Male    81.0        N\n",
       "Changpeng Zhao  Peking University  Freshman   Male    83.0        N\n",
       "Chengpeng Qian   Fudan University    Senior   Male    73.0        Y"
      ],
      "text/html": "<div>\n<style scoped>\n    .dataframe tbody tr th:only-of-type {\n        vertical-align: middle;\n    }\n\n    .dataframe tbody tr th {\n        vertical-align: top;\n    }\n\n    .dataframe thead th {\n        text-align: right;\n    }\n</style>\n<table border=\"1\" class=\"dataframe\">\n  <thead>\n    <tr style=\"text-align: right;\">\n      <th></th>\n      <th>School</th>\n      <th>Grade</th>\n      <th>Gender</th>\n      <th>Weight</th>\n      <th>Transfer</th>\n    </tr>\n    <tr>\n      <th>Name</th>\n      <th></th>\n      <th></th>\n      <th></th>\n      <th></th>\n      <th></th>\n    </tr>\n  </thead>\n  <tbody>\n    <tr>\n      <th>Qiang Han</th>\n      <td>Peking University</td>\n      <td>Freshman</td>\n      <td>Male</td>\n      <td>87.0</td>\n      <td>N</td>\n    </tr>\n    <tr>\n      <th>Chengpeng Zhou</th>\n      <td>Fudan University</td>\n      <td>Senior</td>\n      <td>Male</td>\n      <td>81.0</td>\n      <td>N</td>\n    </tr>\n    <tr>\n      <th>Changpeng Zhao</th>\n      <td>Peking University</td>\n      <td>Freshman</td>\n      <td>Male</td>\n      <td>83.0</td>\n      <td>N</td>\n    </tr>\n    <tr>\n      <th>Chengpeng Qian</th>\n      <td>Fudan University</td>\n      <td>Senior</td>\n      <td>Male</td>\n      <td>73.0</td>\n      <td>Y</td>\n    </tr>\n  </tbody>\n</table>\n</div>"
     },
     "metadata": {},
     "execution_count": 81
    }
   ],
   "source": [
    "condition_1_1 = df_demo.School == 'Fudan University'\n",
    "condition_1_2 = df_demo.Grade == 'Senior'\n",
    "condition_1_3 = df_demo.Weight > 70\n",
    "condition_1 = condition_1_1 & condition_1_2 & condition_1_3\n",
    "condition_2_1 = df_demo.School == 'Peking University'\n",
    "condition_2_2 = df_demo.Grade == 'Senior'\n",
    "condition_2_3 = df_demo.Weight > 80\n",
    "condition_2 = condition_2_1 & (~condition_2_2) & condition_2_3\n",
    "df_demo.loc[condition_1 | condition_2]"
   ]
  },
  {
   "cell_type": "code",
   "execution_count": 94,
   "metadata": {},
   "outputs": [
    {
     "output_type": "execute_result",
     "data": {
      "text/plain": [
       "                Weight\n",
       "Name                  \n",
       "Gaopeng Yang      46.0\n",
       "Changqiang You    70.0\n",
       "Mei Sun           89.0\n",
       "Xiaojuan Sun      41.0\n",
       "Gaojuan You       74.0\n",
       "...                ...\n",
       "Xiaojuan Sun      46.0\n",
       "Li Zhao           50.0\n",
       "Chengqiang Chu    45.0\n",
       "Chengmei Shen     71.0\n",
       "Chunpeng Lv       51.0\n",
       "\n",
       "[200 rows x 1 columns]"
      ],
      "text/html": "<div>\n<style scoped>\n    .dataframe tbody tr th:only-of-type {\n        vertical-align: middle;\n    }\n\n    .dataframe tbody tr th {\n        vertical-align: top;\n    }\n\n    .dataframe thead th {\n        text-align: right;\n    }\n</style>\n<table border=\"1\" class=\"dataframe\">\n  <thead>\n    <tr style=\"text-align: right;\">\n      <th></th>\n      <th>Weight</th>\n    </tr>\n    <tr>\n      <th>Name</th>\n      <th></th>\n    </tr>\n  </thead>\n  <tbody>\n    <tr>\n      <th>Gaopeng Yang</th>\n      <td>46.0</td>\n    </tr>\n    <tr>\n      <th>Changqiang You</th>\n      <td>70.0</td>\n    </tr>\n    <tr>\n      <th>Mei Sun</th>\n      <td>89.0</td>\n    </tr>\n    <tr>\n      <th>Xiaojuan Sun</th>\n      <td>41.0</td>\n    </tr>\n    <tr>\n      <th>Gaojuan You</th>\n      <td>74.0</td>\n    </tr>\n    <tr>\n      <th>...</th>\n      <td>...</td>\n    </tr>\n    <tr>\n      <th>Xiaojuan Sun</th>\n      <td>46.0</td>\n    </tr>\n    <tr>\n      <th>Li Zhao</th>\n      <td>50.0</td>\n    </tr>\n    <tr>\n      <th>Chengqiang Chu</th>\n      <td>45.0</td>\n    </tr>\n    <tr>\n      <th>Chengmei Shen</th>\n      <td>71.0</td>\n    </tr>\n    <tr>\n      <th>Chunpeng Lv</th>\n      <td>51.0</td>\n    </tr>\n  </tbody>\n</table>\n<p>200 rows × 1 columns</p>\n</div>"
     },
     "metadata": {},
     "execution_count": 94
    }
   ],
   "source": [
    "df_demo.select_dtypes('number')\n",
    "mask=[]\n",
    "for i in df_demo.columns:\n",
    "    if df_demo[i].dtype =='float64':\n",
    "        mask.append(True)\n",
    "    else:\n",
    "        mask.append(False)\n",
    "df_demo.loc[:,mask]\n"
   ]
  },
  {
   "cell_type": "code",
   "execution_count": 96,
   "metadata": {},
   "outputs": [
    {
     "output_type": "execute_result",
     "data": {
      "text/plain": [
       "array([False, False,  True, False, False, False, False, False, False,\n",
       "       False, False, False, False, False, False, False, False, False,\n",
       "       False, False, False, False, False,  True, False, False, False,\n",
       "       False, False, False, False, False, False, False, False, False,\n",
       "       False, False,  True, False, False, False, False, False, False,\n",
       "       False, False, False, False, False, False, False, False, False,\n",
       "       False, False, False, False, False, False, False, False, False,\n",
       "       False, False, False,  True, False, False, False, False,  True,\n",
       "       False, False, False, False, False, False, False, False, False,\n",
       "       False, False, False, False, False, False, False, False, False,\n",
       "       False, False, False, False, False, False, False, False, False,\n",
       "        True, False, False, False, False, False, False, False, False,\n",
       "       False, False, False, False, False, False, False, False, False,\n",
       "        True, False, False, False, False, False, False, False, False,\n",
       "       False, False, False, False, False, False, False, False,  True,\n",
       "       False, False, False, False, False, False, False, False, False,\n",
       "       False, False, False, False, False, False, False, False, False,\n",
       "       False, False, False, False, False, False, False, False, False,\n",
       "       False, False, False, False, False, False, False, False, False,\n",
       "       False, False, False, False, False, False, False, False, False,\n",
       "       False, False, False, False, False, False, False, False, False,\n",
       "       False, False, False, False, False, False, False, False, False,\n",
       "       False, False])"
      ]
     },
     "metadata": {},
     "execution_count": 96
    }
   ],
   "source": [
    "(df_demo.Weight>80).values"
   ]
  },
  {
   "cell_type": "code",
   "execution_count": 106,
   "metadata": {},
   "outputs": [
    {
     "output_type": "execute_result",
     "data": {
      "text/plain": [
       "1944240861136"
      ]
     },
     "metadata": {},
     "execution_count": 106
    }
   ],
   "source": [
    "df_chain = pd.DataFrame([[0,0],[1,0],[-1,0]], columns=list('AB'))\n",
    "id(df_chain)\n"
   ]
  },
  {
   "cell_type": "code",
   "execution_count": 103,
   "metadata": {},
   "outputs": [
    {
     "output_type": "execute_result",
     "data": {
      "text/plain": [
       "1944291846016"
      ]
     },
     "metadata": {},
     "execution_count": 103
    }
   ],
   "source": [
    "w =df_chain!=0\n",
    "id(w)"
   ]
  },
  {
   "cell_type": "code",
   "execution_count": 107,
   "metadata": {},
   "outputs": [
    {
     "output_type": "stream",
     "name": "stdout",
     "text": [
      "1944184648592\n"
     ]
    },
    {
     "output_type": "execute_result",
     "data": {
      "text/plain": [
       "     A   B\n",
       "0  NaN NaN\n",
       "1  1.0 NaN\n",
       "2 -1.0 NaN"
      ],
      "text/html": "<div>\n<style scoped>\n    .dataframe tbody tr th:only-of-type {\n        vertical-align: middle;\n    }\n\n    .dataframe tbody tr th {\n        vertical-align: top;\n    }\n\n    .dataframe thead th {\n        text-align: right;\n    }\n</style>\n<table border=\"1\" class=\"dataframe\">\n  <thead>\n    <tr style=\"text-align: right;\">\n      <th></th>\n      <th>A</th>\n      <th>B</th>\n    </tr>\n  </thead>\n  <tbody>\n    <tr>\n      <th>0</th>\n      <td>NaN</td>\n      <td>NaN</td>\n    </tr>\n    <tr>\n      <th>1</th>\n      <td>1.0</td>\n      <td>NaN</td>\n    </tr>\n    <tr>\n      <th>2</th>\n      <td>-1.0</td>\n      <td>NaN</td>\n    </tr>\n  </tbody>\n</table>\n</div>"
     },
     "metadata": {},
     "execution_count": 107
    }
   ],
   "source": [
    "q =df_chain[w]\n",
    "print(id(q))"
   ]
  },
  {
   "cell_type": "code",
   "execution_count": null,
   "metadata": {},
   "outputs": [],
   "source": []
  }
 ]
}